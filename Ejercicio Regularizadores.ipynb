{
  "nbformat": 4,
  "nbformat_minor": 0,
  "metadata": {
    "kernelspec": {
      "display_name": "Python 3",
      "language": "python",
      "name": "python3"
    },
    "language_info": {
      "codemirror_mode": {
        "name": "ipython",
        "version": 3
      },
      "file_extension": ".py",
      "mimetype": "text/x-python",
      "name": "python",
      "nbconvert_exporter": "python",
      "pygments_lexer": "ipython3",
      "version": "3.8.5"
    },
    "colab": {
      "name": "2_1_Un_primer_vistazo_a_una_Red_Neuronal.ipynb",
      "provenance": [],
      "include_colab_link": true
    },
    "accelerator": "TPU"
  },
  "cells": [
    {
      "cell_type": "markdown",
      "metadata": {
        "id": "view-in-github",
        "colab_type": "text"
      },
      "source": [
        "<a href=\"https://colab.research.google.com/github/PaulaPineroCouceiro/deeplearning/blob/main/Ejercicio%20Regularizadores.ipynb\" target=\"_parent\"><img src=\"https://colab.research.google.com/assets/colab-badge.svg\" alt=\"Open In Colab\"/></a>"
      ]
    },
    {
      "cell_type": "markdown",
      "metadata": {
        "id": "Ejg7Msp7rbkk"
      },
      "source": [
        "# Ejercicio con regularizadores"
      ]
    },
    {
      "cell_type": "code",
      "source": [
        "%tensorflow_version 2.x\n",
        "import tensorflow as tf\n",
        "from tensorflow import keras\n",
        "print(tf.keras.__version__)\n",
        "print(\"GPU Available:\", tf.config.list_physical_devices('GPU'))\n",
        "print(tf.__version__)\n",
        "from keras.datasets import mnist\n",
        "from keras import models\n",
        "from keras import layers\n",
        "import numpy as np\n",
        "import matplotlib.pyplot as plt\n",
        "from keras import regularizers"
      ],
      "metadata": {
        "id": "BSivef1i532C",
        "outputId": "6f6e6a25-1fd9-4773-fcec-ab36115ec776",
        "colab": {
          "base_uri": "https://localhost:8080/"
        }
      },
      "execution_count": 10,
      "outputs": [
        {
          "output_type": "stream",
          "name": "stdout",
          "text": [
            "Colab only includes TensorFlow 2.x; %tensorflow_version has no effect.\n",
            "2.9.0\n",
            "GPU Available: []\n",
            "2.9.2\n"
          ]
        }
      ]
    },
    {
      "cell_type": "code",
      "source": [
        "(train_images, train_labels), (test_images, test_labels) = mnist.load_data() # Descarga los datos de MNIST"
      ],
      "metadata": {
        "id": "3t3R6gU9-wUy",
        "outputId": "c5451d0f-601d-40fe-fa36-2ab0cf792407",
        "colab": {
          "base_uri": "https://localhost:8080/"
        }
      },
      "execution_count": 11,
      "outputs": [
        {
          "output_type": "stream",
          "name": "stdout",
          "text": [
            "Downloading data from https://storage.googleapis.com/tensorflow/tf-keras-datasets/mnist.npz\n",
            "11490434/11490434 [==============================] - 0s 0us/step\n"
          ]
        }
      ]
    },
    {
      "cell_type": "code",
      "source": [
        "# Prepara con reshape y normaliza las imágenes tanto de entrenamiento como de test\n",
        "train_images = train_images.reshape(60000,28*28)\n",
        "test_images = test_images.reshape((10000,28*28))\n",
        " \n",
        "train_images = train_images.astype('float32')/ 255\n",
        "test_images = test_images.astype('float32')/255\n"
      ],
      "metadata": {
        "id": "H6n5NeSz0U1d"
      },
      "execution_count": 13,
      "outputs": []
    },
    {
      "cell_type": "code",
      "source": [
        "# Crear un subconjunto de imágenes de entrenamiento que llamaré\n",
        "# validation_images, para hacer las validaciones, con las 10000 últimas imágenes \n",
        "# del set de datos de entrenamiento (train_images) (obviamente, lo mismo con las\n",
        "# etiquetas correspondientes -> validation_labels). Deja preparadas las 50K \n",
        "# primeras imágenes y etiquetas para entrenamiento (train_images y train_labels)\n",
        "partial_train_images=train_images[:50000]\n",
        "validation_images =train_images[50000:]\n",
        "partial_train_labels= train_labels[:50000]\n",
        "validation_labels=train_labels[50000:]"
      ],
      "metadata": {
        "id": "NKoZGyap0XAj"
      },
      "execution_count": 14,
      "outputs": []
    },
    {
      "cell_type": "code",
      "source": [
        "def crea_modelo(regularizador):\n",
        "  # Define una función que recibe un número del 0 al 4 que creará:\n",
        "  # un modelo secuencial con una capa de entrada densa de 512 neuronas\n",
        "  # con activación relu y la capa de salida que le corresponda según el problema\n",
        "  # Ahora, en función del número del regularizador:\n",
        "  # Si es 0, no mete ningún regularizador\n",
        "  # Si es 1, mete un regularizador de tipo l1 y valor 0.001\n",
        "  # Si es 2, mete un regularizador de tipo l2 y valor 0.001\n",
        "  # Si es 3, mete un regularizador de tipo l1_l2 y valor 0.001 para ambos\n",
        "  # Si es 4, mete un Dropout del 50% después de la primera capa densa\n",
        "  # Si es distinto que estos valores, escribe el error y retorna\n",
        "  # Al final, esta función pinta el summary del modelo y retorna el modelo creado\n",
        "    modelo = models.Sequential()\n",
        "    \n",
        "    if regularizador==0:\n",
        "       modelo.add(layers.Dense(512, activation='relu', input_shape=(28*28,)))\n",
        "       modelo.add(layers.Dense(10, activation='softmax'))\n",
        "       modelo.summary()\n",
        "    elif regularizador==1:\n",
        "       modelo.add(layers.Dense(512, kernel_regularizer=regularizers.l1(0.001), activation='relu',\n",
        "                           input_shape=(28*28,)))\n",
        "       modelo.add(layers.Dense(10, activation='softmax'))\n",
        "       modelo.summary()\n",
        "    elif regularizador==2:\n",
        "      modelo.add(layers.Dense(512, kernel_regularizer=regularizers.l2(0.001), activation='relu',\n",
        "                           input_shape=(28*28,)))\n",
        "      modelo.add(layers.Dense(10, activation='softmax'))\n",
        "      modelo.summary()\n",
        "    elif regularizador==3:\n",
        "      modelo.add(layers.Dense(512, kernel_regularizer=regularizers.l1_l2(l1=0.001, l2=0.002), activation='relu',\n",
        "                           input_shape=(28*28,)))\n",
        "      modelo.add(layers.Dense(10, activation='softmax'))\n",
        "      modelo.summary()\n",
        "    elif regularizador==4:\n",
        "      modelo.add(layers.Dense(512, activation='relu', input_shape=(28*28,)))\n",
        "      modelo.add(layers.Dropout(0.5))\n",
        "      modelo.add(layers.Dense(10, activation='softmax'))\n",
        "      modelo.summary()\n",
        "    else:\n",
        "      print('Error no es ninguno de estos valores \\n ')\n",
        "     \n",
        "    return modelo\n",
        "\n",
        "   \n"
      ],
      "metadata": {
        "id": "6JnVLVfsAfkh"
      },
      "execution_count": 33,
      "outputs": []
    },
    {
      "cell_type": "code",
      "source": [
        "def compila_modelo(modelo): \n",
        "  # Define una función que recibe un modelo, lo compila con un optimizador\n",
        "  # 'rmsprop', con una función de pérdida 'sparse_categorical_crossentropy' y\n",
        "  # una métrica de precisión. La función retorna el modelo\n",
        "    modelo.compile(optimizer='rmsprop', loss='sparse_categorical_crossentropy',metrics=['accuracy'])\n",
        "    return modelo   \n"
      ],
      "metadata": {
        "id": "qKyJ8KOT0aFt"
      },
      "execution_count": 38,
      "outputs": []
    },
    {
      "cell_type": "code",
      "source": [
        "def entrena_modelo(modelo):\n",
        "  # Define una función que entrena el modelo que se le pasa por parámetro,\n",
        "  # con las imágenes y etiquetas de entrenamiento, con 30 iteraciones y 128\n",
        "  # de tamaño de minilote y con el validation_data creado más arriba.\n",
        "  # Esta función devuelve un history\n",
        "    historia0=modelo.fit(train_images, train_labels, epochs=30, batch_size=128,validation_data=(validation_images,validation_labels))\n",
        "    return historia0"
      ],
      "metadata": {
        "id": "_yQ7SpOt0cBp"
      },
      "execution_count": 39,
      "outputs": []
    },
    {
      "cell_type": "code",
      "source": [
        "def pinta_perdida_entrenamiento_validacion(historia):\n",
        "  history_dict = historia.history\n",
        "  acc = historia.history['accuracy']\n",
        "  val_acc = historia.history['val_accuracy']\n",
        "  loss = historia.history['loss']\n",
        "  val_loss = historia.history['val_loss']\n",
        "  epochs = range(1, len(acc) + 1)\n",
        "  # \"bo\" es para \"punto azun\"\n",
        "  plt.plot(epochs, loss, 'bo', label='Pérdida de Entrenamiento')\n",
        "  # \"b\" es para \"linea continua azul\"\n",
        "  plt.plot(epochs, val_loss, 'b', label='Pérdida de Validación')\n",
        "  plt.title('Pérdida de Entrenamiento y Validación')\n",
        "  plt.xlabel('Epochs')\n",
        "  plt.ylabel('Loss')\n",
        "  plt.legend()\n",
        "  plt.show()"
      ],
      "metadata": {
        "id": "bJrRNc4WwPN2"
      },
      "execution_count": 40,
      "outputs": []
    },
    {
      "cell_type": "code",
      "source": [
        "def pinta_precision_entrenamiento_validacion(historia):\n",
        "  history_dict = historia.history\n",
        "  acc = historia.history['accuracy']\n",
        "  val_acc = historia.history['val_accuracy']\n",
        "  loss = historia.history['loss']\n",
        "  val_loss = historia.history['val_loss']\n",
        "  plt.clf()   # Limpia la figura\n",
        "  acc_values = history_dict['accuracy']\n",
        "  val_acc_values = history_dict['val_accuracy']\n",
        "  epochs = range(1, len(acc) + 1)\n",
        "  plt.plot(epochs, acc, 'bo', label='Precisión de Entrenamiento')\n",
        "  plt.plot(epochs, val_acc, 'b', label='Precisión de Validación')\n",
        "  plt.title('Precisión de Entrenamiento y Valización')\n",
        "  plt.xlabel('Epochs')\n",
        "  plt.ylabel('Loss')\n",
        "  plt.legend()\n",
        "  plt.show()"
      ],
      "metadata": {
        "id": "Mafxp6D3wYQx"
      },
      "execution_count": 41,
      "outputs": []
    },
    {
      "cell_type": "markdown",
      "source": [
        "## Una vez definidas todas las funciones anteriores, ejecuta las siguientes llamadas a dichas funciones y deduce que está pasando y, para este contexto, que es lo que mejor está funcionando"
      ],
      "metadata": {
        "id": "6nnQYysYA3_T"
      }
    },
    {
      "cell_type": "markdown",
      "source": [
        "### Caso 0, sin regularizadores"
      ],
      "metadata": {
        "id": "OrGwDgaFBax4"
      }
    },
    {
      "cell_type": "code",
      "source": [
        "network0 = crea_modelo(0)"
      ],
      "metadata": {
        "id": "uXvhlXg79Zi9",
        "outputId": "b298d646-d16f-44bd-da89-e458788258a2",
        "colab": {
          "base_uri": "https://localhost:8080/"
        }
      },
      "execution_count": 42,
      "outputs": [
        {
          "output_type": "stream",
          "name": "stdout",
          "text": [
            "Model: \"sequential\"\n",
            "_________________________________________________________________\n",
            " Layer (type)                Output Shape              Param #   \n",
            "=================================================================\n",
            " dense (Dense)               (None, 512)               401920    \n",
            "                                                                 \n",
            " dense_1 (Dense)             (None, 10)                5130      \n",
            "                                                                 \n",
            "=================================================================\n",
            "Total params: 407,050\n",
            "Trainable params: 407,050\n",
            "Non-trainable params: 0\n",
            "_________________________________________________________________\n"
          ]
        }
      ]
    },
    {
      "cell_type": "code",
      "source": [
        "network0 = compila_modelo(network0)"
      ],
      "metadata": {
        "id": "Ff0HC3NR9ez8"
      },
      "execution_count": 43,
      "outputs": []
    },
    {
      "cell_type": "code",
      "source": [
        "historia0 = entrena_modelo(network0)"
      ],
      "metadata": {
        "id": "x9zQDOlw9g6V",
        "outputId": "764c25f8-3cb3-4eb9-f4c7-b76ed5070ae0",
        "colab": {
          "base_uri": "https://localhost:8080/"
        }
      },
      "execution_count": 44,
      "outputs": [
        {
          "output_type": "stream",
          "name": "stdout",
          "text": [
            "Epoch 1/30\n",
            "469/469 [==============================] - 6s 12ms/step - loss: 0.2551 - accuracy: 0.9260 - val_loss: 0.1139 - val_accuracy: 0.9692\n",
            "Epoch 2/30\n",
            "469/469 [==============================] - 5s 11ms/step - loss: 0.1031 - accuracy: 0.9690 - val_loss: 0.0755 - val_accuracy: 0.9787\n",
            "Epoch 3/30\n",
            "469/469 [==============================] - 5s 11ms/step - loss: 0.0689 - accuracy: 0.9792 - val_loss: 0.0479 - val_accuracy: 0.9846\n",
            "Epoch 4/30\n",
            "469/469 [==============================] - 6s 12ms/step - loss: 0.0495 - accuracy: 0.9851 - val_loss: 0.0393 - val_accuracy: 0.9890\n",
            "Epoch 5/30\n",
            "469/469 [==============================] - 6s 12ms/step - loss: 0.0379 - accuracy: 0.9883 - val_loss: 0.0257 - val_accuracy: 0.9931\n",
            "Epoch 6/30\n",
            "469/469 [==============================] - 5s 12ms/step - loss: 0.0288 - accuracy: 0.9916 - val_loss: 0.0173 - val_accuracy: 0.9959\n",
            "Epoch 7/30\n",
            "469/469 [==============================] - 5s 12ms/step - loss: 0.0212 - accuracy: 0.9937 - val_loss: 0.0151 - val_accuracy: 0.9961\n",
            "Epoch 8/30\n",
            "469/469 [==============================] - 6s 12ms/step - loss: 0.0173 - accuracy: 0.9949 - val_loss: 0.0097 - val_accuracy: 0.9979\n",
            "Epoch 9/30\n",
            "469/469 [==============================] - 6s 13ms/step - loss: 0.0132 - accuracy: 0.9961 - val_loss: 0.0101 - val_accuracy: 0.9978\n",
            "Epoch 10/30\n",
            "469/469 [==============================] - 5s 11ms/step - loss: 0.0103 - accuracy: 0.9973 - val_loss: 0.0087 - val_accuracy: 0.9979\n",
            "Epoch 11/30\n",
            "469/469 [==============================] - 5s 11ms/step - loss: 0.0083 - accuracy: 0.9977 - val_loss: 0.0055 - val_accuracy: 0.9990\n",
            "Epoch 12/30\n",
            "469/469 [==============================] - 5s 11ms/step - loss: 0.0059 - accuracy: 0.9985 - val_loss: 0.0073 - val_accuracy: 0.9981\n",
            "Epoch 13/30\n",
            "469/469 [==============================] - 6s 12ms/step - loss: 0.0052 - accuracy: 0.9986 - val_loss: 0.0037 - val_accuracy: 0.9988\n",
            "Epoch 14/30\n",
            "469/469 [==============================] - 5s 11ms/step - loss: 0.0039 - accuracy: 0.9989 - val_loss: 0.0036 - val_accuracy: 0.9991\n",
            "Epoch 15/30\n",
            "469/469 [==============================] - 6s 12ms/step - loss: 0.0029 - accuracy: 0.9993 - val_loss: 0.0036 - val_accuracy: 0.9988\n",
            "Epoch 16/30\n",
            "469/469 [==============================] - 5s 11ms/step - loss: 0.0027 - accuracy: 0.9991 - val_loss: 9.4854e-04 - val_accuracy: 0.9999\n",
            "Epoch 17/30\n",
            "469/469 [==============================] - 5s 11ms/step - loss: 0.0020 - accuracy: 0.9994 - val_loss: 8.7383e-04 - val_accuracy: 0.9998\n",
            "Epoch 18/30\n",
            "469/469 [==============================] - 5s 11ms/step - loss: 0.0014 - accuracy: 0.9997 - val_loss: 9.6159e-04 - val_accuracy: 0.9998\n",
            "Epoch 19/30\n",
            "469/469 [==============================] - 5s 11ms/step - loss: 0.0013 - accuracy: 0.9996 - val_loss: 5.1710e-04 - val_accuracy: 0.9998\n",
            "Epoch 20/30\n",
            "469/469 [==============================] - 5s 11ms/step - loss: 8.7530e-04 - accuracy: 0.9998 - val_loss: 4.3315e-04 - val_accuracy: 1.0000\n",
            "Epoch 21/30\n",
            "469/469 [==============================] - 5s 11ms/step - loss: 9.4190e-04 - accuracy: 0.9997 - val_loss: 5.1065e-04 - val_accuracy: 0.9998\n",
            "Epoch 22/30\n",
            "469/469 [==============================] - 5s 11ms/step - loss: 6.5546e-04 - accuracy: 0.9997 - val_loss: 7.8158e-04 - val_accuracy: 0.9996\n",
            "Epoch 23/30\n",
            "469/469 [==============================] - 5s 11ms/step - loss: 7.0993e-04 - accuracy: 0.9998 - val_loss: 4.6659e-04 - val_accuracy: 1.0000\n",
            "Epoch 24/30\n",
            "469/469 [==============================] - 5s 11ms/step - loss: 4.5435e-04 - accuracy: 0.9999 - val_loss: 2.0732e-04 - val_accuracy: 0.9999\n",
            "Epoch 25/30\n",
            "469/469 [==============================] - 5s 11ms/step - loss: 2.4966e-04 - accuracy: 0.9999 - val_loss: 8.3194e-05 - val_accuracy: 1.0000\n",
            "Epoch 26/30\n",
            "469/469 [==============================] - 5s 11ms/step - loss: 2.7835e-04 - accuracy: 0.9999 - val_loss: 1.4358e-04 - val_accuracy: 1.0000\n",
            "Epoch 27/30\n",
            "469/469 [==============================] - 5s 12ms/step - loss: 3.8135e-04 - accuracy: 0.9999 - val_loss: 5.9570e-05 - val_accuracy: 1.0000\n",
            "Epoch 28/30\n",
            "469/469 [==============================] - 5s 11ms/step - loss: 1.3561e-04 - accuracy: 1.0000 - val_loss: 4.8530e-05 - val_accuracy: 1.0000\n",
            "Epoch 29/30\n",
            "469/469 [==============================] - 5s 11ms/step - loss: 1.0614e-04 - accuracy: 1.0000 - val_loss: 7.9965e-05 - val_accuracy: 1.0000\n",
            "Epoch 30/30\n",
            "469/469 [==============================] - 5s 12ms/step - loss: 1.3655e-04 - accuracy: 1.0000 - val_loss: 3.0368e-05 - val_accuracy: 1.0000\n"
          ]
        }
      ]
    },
    {
      "cell_type": "code",
      "source": [
        "pinta_perdida_entrenamiento_validacion(historia0)"
      ],
      "metadata": {
        "id": "OvhDZvS8-0mG"
      },
      "execution_count": null,
      "outputs": []
    },
    {
      "cell_type": "code",
      "source": [
        "pinta_precision_entrenamiento_validacion(historia0)"
      ],
      "metadata": {
        "id": "UuiL2CCH_fGN"
      },
      "execution_count": null,
      "outputs": []
    },
    {
      "cell_type": "markdown",
      "source": [
        "### Caso 1: Con regularizador l1"
      ],
      "metadata": {
        "id": "pw6iBGO5Bg8J"
      }
    },
    {
      "cell_type": "code",
      "source": [
        "network1 = crea_modelo(1)"
      ],
      "metadata": {
        "id": "D6JPtw5zCz-1"
      },
      "execution_count": null,
      "outputs": []
    },
    {
      "cell_type": "code",
      "source": [
        "network1 = compila_modelo(network1)"
      ],
      "metadata": {
        "id": "zL3Gp7wvFRq3"
      },
      "execution_count": null,
      "outputs": []
    },
    {
      "cell_type": "code",
      "source": [
        "historia1 = entrena_modelo(network1)"
      ],
      "metadata": {
        "id": "G2FG1Z4xFW72"
      },
      "execution_count": null,
      "outputs": []
    },
    {
      "cell_type": "code",
      "source": [
        "pinta_perdida_entrenamiento_validacion(historia1)"
      ],
      "metadata": {
        "id": "Vyv3yFtiFitw"
      },
      "execution_count": null,
      "outputs": []
    },
    {
      "cell_type": "code",
      "source": [
        "pinta_precision_entrenamiento_validacion(historia1)"
      ],
      "metadata": {
        "id": "pVUerJsqFo7K"
      },
      "execution_count": null,
      "outputs": []
    },
    {
      "cell_type": "markdown",
      "source": [
        "### Caso 2: Con regularizador l2"
      ],
      "metadata": {
        "id": "hklwKNlMBzya"
      }
    },
    {
      "cell_type": "code",
      "source": [
        "network2 = crea_modelo(2)"
      ],
      "metadata": {
        "id": "tjIs0FziG5Ja"
      },
      "execution_count": null,
      "outputs": []
    },
    {
      "cell_type": "code",
      "source": [
        "network2 = compila_modelo(network2)"
      ],
      "metadata": {
        "id": "UCdA0K_qyTUq"
      },
      "execution_count": null,
      "outputs": []
    },
    {
      "cell_type": "code",
      "source": [
        "historia2 = entrena_modelo(network2)"
      ],
      "metadata": {
        "id": "WSuomx5oybpu"
      },
      "execution_count": null,
      "outputs": []
    },
    {
      "cell_type": "code",
      "source": [
        "pinta_perdida_entrenamiento_validacion(historia2)"
      ],
      "metadata": {
        "id": "aXXzm8tpyj6X"
      },
      "execution_count": null,
      "outputs": []
    },
    {
      "cell_type": "code",
      "source": [
        "pinta_precision_entrenamiento_validacion(historia2)"
      ],
      "metadata": {
        "id": "CLTsg5LTypH9"
      },
      "execution_count": null,
      "outputs": []
    },
    {
      "cell_type": "markdown",
      "source": [
        "### Caso 3: Con regularizador l1_l2"
      ],
      "metadata": {
        "id": "692oWz8oB82n"
      }
    },
    {
      "cell_type": "code",
      "source": [
        "network3 = crea_modelo(3)"
      ],
      "metadata": {
        "id": "5fdxkjoKzFcu"
      },
      "execution_count": null,
      "outputs": []
    },
    {
      "cell_type": "code",
      "source": [
        "network3 = compila_modelo(network3)"
      ],
      "metadata": {
        "id": "VJzs9A2yzPhx"
      },
      "execution_count": null,
      "outputs": []
    },
    {
      "cell_type": "code",
      "source": [
        "historia3 = entrena_modelo(network3)"
      ],
      "metadata": {
        "id": "1JCUbcCQzY6E"
      },
      "execution_count": null,
      "outputs": []
    },
    {
      "cell_type": "code",
      "source": [
        "pinta_perdida_entrenamiento_validacion(historia3)"
      ],
      "metadata": {
        "id": "I8XzPVtyze8y"
      },
      "execution_count": null,
      "outputs": []
    },
    {
      "cell_type": "code",
      "source": [
        "pinta_precision_entrenamiento_validacion(historia3)"
      ],
      "metadata": {
        "id": "nKk7AmM8zi3A"
      },
      "execution_count": null,
      "outputs": []
    },
    {
      "cell_type": "markdown",
      "source": [
        "### Caso 4: Con Droput"
      ],
      "metadata": {
        "id": "OPVcbgcXCFRL"
      }
    },
    {
      "cell_type": "code",
      "source": [
        "network4 = crea_modelo(4)"
      ],
      "metadata": {
        "id": "5MVbUNX11Pgr"
      },
      "execution_count": null,
      "outputs": []
    },
    {
      "cell_type": "code",
      "source": [
        "network4 = compila_modelo(network4)"
      ],
      "metadata": {
        "id": "pT-13IKI1UpW"
      },
      "execution_count": null,
      "outputs": []
    },
    {
      "cell_type": "code",
      "source": [
        "historia4 = entrena_modelo(network4)"
      ],
      "metadata": {
        "id": "kNWidx1S1aCH"
      },
      "execution_count": null,
      "outputs": []
    },
    {
      "cell_type": "code",
      "source": [
        "pinta_perdida_entrenamiento_validacion(historia4)"
      ],
      "metadata": {
        "id": "R9pI34Yr1gBO"
      },
      "execution_count": null,
      "outputs": []
    },
    {
      "cell_type": "code",
      "source": [
        "pinta_precision_entrenamiento_validacion(historia4)"
      ],
      "metadata": {
        "id": "EwEIEOKx1lQr"
      },
      "execution_count": null,
      "outputs": []
    },
    {
      "cell_type": "markdown",
      "source": [
        "### Caso 5: Error de código de regularizador"
      ],
      "metadata": {
        "id": "e6rlKx2nCOgU"
      }
    },
    {
      "cell_type": "code",
      "source": [
        "network5 = crea_modelo(5)"
      ],
      "metadata": {
        "id": "SqGDm8VM1rwR",
        "outputId": "fea8f57b-28a4-4255-ec38-d094cd8d9845",
        "colab": {
          "base_uri": "https://localhost:8080/"
        }
      },
      "execution_count": null,
      "outputs": [
        {
          "output_type": "stream",
          "name": "stdout",
          "text": [
            "Error: Código de regularizador debe estar entre 0 y 4\n"
          ]
        }
      ]
    },
    {
      "cell_type": "markdown",
      "source": [
        "### CONCLUSIONES"
      ],
      "metadata": {
        "id": "IklUu29cCcVe"
      }
    },
    {
      "cell_type": "markdown",
      "source": [],
      "metadata": {
        "id": "cB_OYjjaChzN"
      }
    }
  ]
}